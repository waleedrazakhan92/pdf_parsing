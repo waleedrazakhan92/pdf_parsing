{
  "cells": [
    {
      "cell_type": "code",
      "execution_count": 1,
      "metadata": {
        "id": "ObP5BaAHSqBW"
      },
      "outputs": [],
      "source": []
    },
    {
      "cell_type": "code",
      "execution_count": 2,
      "metadata": {
        "colab": {
          "base_uri": "https://localhost:8080/"
        },
        "id": "VyQCar_w0ql5",
        "outputId": "c1a8cbb0-48f8-4c33-9d03-69687f3ef4c6"
      },
      "outputs": [
        {
          "output_type": "stream",
          "name": "stdout",
          "text": [
            "Cloning into 'pdf_parsing'...\n",
            "remote: Enumerating objects: 33, done.\u001b[K\n",
            "remote: Counting objects: 100% (33/33), done.\u001b[K\n",
            "remote: Compressing objects: 100% (27/27), done.\u001b[K\n",
            "remote: Total 33 (delta 8), reused 25 (delta 4), pack-reused 0\u001b[K\n",
            "Receiving objects: 100% (33/33), 1.38 MiB | 4.61 MiB/s, done.\n",
            "Resolving deltas: 100% (8/8), done.\n"
          ]
        }
      ],
      "source": [
        "!git clone https://github.com/waleedrazakhan92/pdf_parsing.git"
      ]
    },
    {
      "cell_type": "code",
      "execution_count": 3,
      "metadata": {
        "colab": {
          "base_uri": "https://localhost:8080/"
        },
        "id": "LEeXM_3K0urc",
        "outputId": "7957b7dd-e8ab-470e-a3f7-35bd5c206d7c"
      },
      "outputs": [
        {
          "output_type": "stream",
          "name": "stdout",
          "text": [
            "/content/pdf_parsing\n"
          ]
        }
      ],
      "source": [
        "%cd '/content/pdf_parsing/'"
      ]
    },
    {
      "cell_type": "code",
      "execution_count": null,
      "metadata": {
        "id": "yAwD4WZgfLPa"
      },
      "outputs": [],
      "source": [
        "from google.colab import drive\n",
        "drive.mount('/content/drive')"
      ]
    },
    {
      "cell_type": "code",
      "execution_count": null,
      "metadata": {
        "id": "llrXKK98fMhK"
      },
      "outputs": [],
      "source": [
        "!cp -r '/content/drive/MyDrive/shared_with_faizan/micheal_solomon/documents/' '/content/'\n",
        "# !cp -r '/content/drive/MyDrive/shared_with_faizan/micheal_solomon/junk/page_tables/' '/content/'"
      ]
    },
    {
      "cell_type": "code",
      "execution_count": null,
      "metadata": {
        "id": "6lhSfiPXfN8t"
      },
      "outputs": [],
      "source": [
        "print('-------------------------')\n",
        "!sudo apt clean\n",
        "!sudo apt autoclean\n",
        "!sudo apt update\n",
        "print('-------------------------')\n",
        "!apt-get install tesseract-ocr\n",
        "print('-------------------------')\n",
        "!apt-get install libtesseract-dev\n",
        "print('-------------------------')\n",
        "!pip install pytesseract\n",
        "print('-------------------------')\n",
        "# !apt-get install poppler-utils\n",
        "!sudo apt-get install --fix-missing poppler-utils\n",
        "print('-------------------------')\n",
        "!pip install pdf2image\n",
        "print('-------------------------')\n",
        "!pip install deskew\n",
        "print('-------------------------')\n",
        "!pip install PyPDF2\n",
        "print('-------------------------')\n",
        "!pip install zxing-cpp\n",
        "print('-------------------------')\n"
      ]
    },
    {
      "cell_type": "code",
      "execution_count": null,
      "metadata": {
        "id": "W9JmN66XSW1g"
      },
      "outputs": [],
      "source": []
    },
    {
      "cell_type": "markdown",
      "metadata": {
        "id": "sl2FDuGk9pQE"
      },
      "source": [
        "# Pipeline"
      ]
    },
    {
      "cell_type": "code",
      "execution_count": null,
      "metadata": {
        "id": "QnnczgA43T8H"
      },
      "outputs": [],
      "source": [
        "%cd '/content/pdf_parsing/'"
      ]
    },
    {
      "cell_type": "code",
      "execution_count": null,
      "metadata": {
        "id": "N_wck1Hm96Fe"
      },
      "outputs": [],
      "source": [
        "\n",
        "import matplotlib.pyplot as plt\n",
        "import numpy as np\n",
        "\n",
        "def cv2_imshow_rgb(img,resize=None, figsize=(15,15)):\n",
        "    if resize!=None:\n",
        "        img=cv2.resize(img,resize)\n",
        "\n",
        "        #     cv2_imshow(cv2.cvtColor(np.uint8(img),cv2.COLOR_RGB2BGR))\n",
        "\n",
        "    plt.figure(figsize=figsize)\n",
        "    plt.imshow(np.uint8(img))\n",
        "\n",
        "\n",
        "def display_multi(*images,resize=None, figsize=(15,15),bgr=False,axis=1):\n",
        "    if resize!=None:\n",
        "        res = np.array(cv2.resize(images[0],resize))\n",
        "    else:\n",
        "        res = np.array(images[0])\n",
        "\n",
        "    for i in range(1,len(images)):\n",
        "\n",
        "        if resize!=None:\n",
        "            res_img = np.array(cv2.resize(images[i],resize))\n",
        "        else:\n",
        "            res_img = np.array(images[i])\n",
        "\n",
        "        res = np.concatenate((res, res_img), axis=axis)\n",
        "\n",
        "    if bgr==True:\n",
        "        res = cv2.cvtColor(res,cv2.COLOR_BGR2RGB)\n",
        "\n",
        "    return cv2_imshow_rgb(res,resize=None, figsize=figsize)"
      ]
    },
    {
      "cell_type": "code",
      "execution_count": null,
      "metadata": {
        "id": "qphUyJiiKSab"
      },
      "outputs": [],
      "source": [
        "import argparse\n",
        "from pdf2image import convert_from_path\n",
        "import pytesseract\n",
        "from PIL import Image\n",
        "import os\n",
        "import shutil\n",
        "import re\n",
        "import cv2\n",
        "import numpy as np\n",
        "import skimage\n",
        "# from skimage.transform import rotate\n",
        "from PyPDF2 import PdfWriter, PdfReader\n",
        "\n",
        "import math\n",
        "from tqdm import tqdm\n",
        "from glob import glob\n",
        "\n",
        "from utils.load_and_preprocess_utils import preprocess_image\n",
        "from utils.table_utils import extract_all_tables,cropped_tables_to_data\n",
        "from utils.non_table_utils import img_to_all_data_dicts,data_dict_to_data\n",
        "from utils.non_table_utils import erode_and_find_contours\n",
        "from utils.formatting_utils import *\n",
        "from utils.notice_and_case_types import *\n",
        "from utils.common_functions import *\n",
        "\n",
        "def process_and_save(all_pages,junk_folder=None,display_info=False,st_i=None,end_i=None,save_jpegs=False):\n",
        "    if save_jpegs==True:\n",
        "        assert junk_folder!=None\n",
        "\n",
        "    ## Settings\n",
        "    ## pre processing options\n",
        "    op_dpi = (300,300)\n",
        "    op_deskew = True\n",
        "    op_img_thresh = False   ## True makes I to 1 so keep it false\n",
        "    op_borders = (False,10,(0,0,0))\n",
        "\n",
        "    ## thresholding and morphology\n",
        "    # ['try_all_threshold','threshold_otsu','threshold_yen','threshold_isodata','threshold_li','threshold_local','threshold_minimum','threshold_mean', 'threshold_niblack','threshold_sauvola','threshold_triangle','apply_hysteresis_threshold','threshold_multiotsu']\n",
        "    thresh_filter = None#skimage.filters.threshold_otsu\n",
        "    op_morph = None #apply_morph(img,morph_operation=cv2.MORPH_CLOSE,kernel=(3,3),iterations=1)\n",
        "\n",
        "\n",
        "    all_final_names = []\n",
        "    all_final_appends = []\n",
        "    ## Init dictionaries\n",
        "    all_tables_info = {}\n",
        "    all_doc_info = {}\n",
        "\n",
        "    info_dict_old = {}\n",
        "    info_dict_old['name'] = None\n",
        "    info_dict_old['case_type'] = None\n",
        "    info_dict_old['doc_type'] = None\n",
        "\n",
        "    info_dict = {}\n",
        "    info_dict['name'] = None\n",
        "    info_dict['case_type'] = None\n",
        "    info_dict['doc_type'] = None\n",
        "\n",
        "    corrupts = []\n",
        "    if st_i==None:\n",
        "        st_i = 0\n",
        "    if end_i==None:\n",
        "        end_i = len(all_pages)\n",
        "\n",
        "    for i in tqdm(range(st_i,end_i)):\n",
        "        # try:\n",
        "        pg_num = i+1\n",
        "\n",
        "        ## Init dictionaries\n",
        "        all_tables_info = {}\n",
        "        all_doc_info = {}\n",
        "        info_dict = {}\n",
        "\n",
        "        sp_name = 'page_'+str(pg_num)\n",
        "        img = cv2.cvtColor(np.array(all_pages[i]),cv2.COLOR_RGB2GRAY)\n",
        "\n",
        "        try:\n",
        "            img = check_orientation_tesseract(np.array(img))\n",
        "        except:\n",
        "            pass\n",
        "\n",
        "        img = preprocess_image(img,deskew=op_deskew,img_thresh=op_img_thresh,\\\n",
        "                                add_border=op_borders[0],border_width=op_borders[1],border_color=op_borders[2],img_type='gray')\n",
        "\n",
        "        img_h,img_w = img.shape\n",
        "\n",
        "        init_type = detect_tables_vs_nontables(img,display_info=False)\n",
        "        if display_info==True:\n",
        "            print('')\n",
        "            print('Table/Not: ',init_type)\n",
        "\n",
        "        ## ------------------------------------------\n",
        "        ### Detection using tables\n",
        "        ## ------------------------------------------\n",
        "        ## resize image to make sure the capital letters are 30pixels in height\n",
        "        if init_type=='Tables':\n",
        "            table_resize = 2\n",
        "            fake_table = True\n",
        "            all_tables,table_coordinates = extract_all_tables(img.copy(),sp_name,path_cropped=\"page_tables/\",filter_tables=True,\n",
        "                                                            save_crops=False,save_overlay=False,fake_table=fake_table,fake_line=False,\n",
        "                                                            resize=table_resize)\n",
        "\n",
        "\n",
        "            narrow_cell = True\n",
        "            all_tables_info = cropped_tables_to_data(all_tables,table_coordinates,fake_table,notice_types_tables,all_case_types_tables,thresh_filter=thresh_filter,\n",
        "                                        op_borders=10,display_info=display_info,op_morph=op_morph,narrow_cell=narrow_cell)\n",
        "\n",
        "            all_tables_info['init_type'] = init_type\n",
        "            # if all_tables_info['notice_type'] in notice_types_tables.keys():\n",
        "            info_dict = final_naming_tables(all_tables_info)\n",
        "\n",
        "        else:\n",
        "            ## ------------------------------------------\n",
        "            ### Detection without tables\n",
        "            ## ------------------------------------------\n",
        "            all_data_dicts = img_to_all_data_dicts(img)\n",
        "            all_doc_info = data_dict_to_data(all_data_dicts,all_doc_tags,all_doc_tags_partial,all_case_types_tables)\n",
        "            all_doc_info['init_type'] = init_type\n",
        "            info_dict = final_naming_nontables(all_doc_info)\n",
        "\n",
        "            if display_info==True:\n",
        "                print('----------------------')\n",
        "                print('All data dicts')\n",
        "                print('----------------------')\n",
        "                for d_d in all_data_dicts:\n",
        "                    print(d_d[0])\n",
        "\n",
        "        append_page = decide_page(info_dict,info_dict_old,notice_types_tables,all_doc_tags)\n",
        "        ## update old dict\n",
        "        info_dict_old = info_dict\n",
        "\n",
        "        ## Extract important info\n",
        "        final_name = info_dict['name']\n",
        "        case_type = info_dict['case_type']\n",
        "        doc_type = info_dict['doc_type']\n",
        "\n",
        "        ## Correct final formats\n",
        "        final_name = format_name(final_name)\n",
        "        case_type = correct_final_case_type(case_type)\n",
        "        doc_type = correct_final_doc_type(doc_type)\n",
        "\n",
        "        ## If doc_type==ASC read from barcode\n",
        "        if doc_type=='ASC':\n",
        "            try:\n",
        "                bcode_417 = read_bcode_from_img(img)\n",
        "                bcode_name = get_name_from_bcode(bcode_417)\n",
        "                # separator=' '\n",
        "                # bcode_name = str(separator.join(bcode_name))\n",
        "                final_name = bcode_name\n",
        "            except:\n",
        "                pass\n",
        "\n",
        "        ##############################################\n",
        "        ## saving images\n",
        "\n",
        "        save_name_full = None\n",
        "        save_name_full = str(pg_num)+'_'+str(final_name)+'_'+str(case_type)+'_'+str(doc_type)+\".jpg\"\n",
        "        if save_jpegs==True:\n",
        "            save_name_full = os.path.join(junk_folder,save_name_full)\n",
        "            cv2.imwrite(save_name_full,img,[cv2.IMWRITE_JPEG_QUALITY, 10])\n",
        "\n",
        "        all_final_names.append(save_name_full)\n",
        "        all_final_appends.append(append_page)\n",
        "\n",
        "        if display_info==True:\n",
        "            print(' ')\n",
        "            print(save_name_full)\n",
        "            print('Page:',append_page)\n",
        "            # print(all_tables_info)\n",
        "            print('-----------Tables-------------------')\n",
        "            for k in all_tables_info:\n",
        "                print(k,'==',all_tables_info[k])\n",
        "\n",
        "            print('-----------No Tables-------------------')\n",
        "            for k in all_doc_info:\n",
        "                print(k,'==',all_doc_info[k])\n",
        "\n",
        "            print('-----------Info Dict-------------------')\n",
        "            for k in info_dict:\n",
        "                print(k,'==',info_dict[k])\n",
        "\n",
        "            display_multi(img)\n",
        "\n",
        "        # except:\n",
        "        #     print('')\n",
        "        #     print('Corrupt:',pdf_name,pg_num)\n",
        "        #     corrupts.append((pdf_name,pg_num))\n",
        "\n",
        "    return all_final_names,all_final_appends,corrupts"
      ]
    },
    {
      "cell_type": "code",
      "execution_count": null,
      "metadata": {
        "id": "o9EgDVSqZR5Q"
      },
      "outputs": [],
      "source": [
        "from utils.common_functions import delete_characters,find_element_index\n",
        "def format_name(in_name):\n",
        "\n",
        "    # print('')\n",
        "    # print('#############################')\n",
        "    # print(in_name)\n",
        "    # print('#############################')\n",
        "\n",
        "    if in_name==None:\n",
        "        return in_name\n",
        "\n",
        "    in_name_clean = delete_characters(in_name,[',','.'])\n",
        "    in_name_clean = in_name_clean.split(' ')\n",
        "\n",
        "    in_name = in_name.split(' ')\n",
        "    indices = find_element_index(in_name,',')\n",
        "\n",
        "    if indices==0 and len(in_name_clean)>1:\n",
        "        f_name = in_name_clean[0]+', '+in_name_clean[1]\n",
        "    elif len(in_name_clean)>1 and len(in_name_clean)!=4 and indices==[]:\n",
        "        f_name = in_name_clean[-1]+', '+in_name_clean[0]\n",
        "    elif len(in_name_clean)>1 and len(in_name_clean)==4 and indices==[]:\n",
        "        f_name = in_name_clean[-2]+' '+in_name_clean[-1]+', '+in_name_clean[0]\n",
        "    else:\n",
        "        f_name = in_name_clean[0]\n",
        "\n",
        "\n",
        "    # print('#############################')\n",
        "    # print(f_name)\n",
        "    # print('#############################')\n",
        "    return f_name"
      ]
    },
    {
      "cell_type": "code",
      "source": [
        "### %%writefile /content/pdf_parsing/utils/barcode_utils.py\n",
        "import zxingcpp\n",
        "def read_bcode_from_img(img):\n",
        "    bcode_results = zxingcpp.read_barcodes(img)\n",
        "    for result in bcode_results:\n",
        "        if result.format==zxingcpp.BarcodeFormat.PDF417:\n",
        "            return result\n",
        "\n",
        "    return None\n",
        "\n",
        "def get_name_from_bcode(bcode_417):\n",
        "    name_keys = ['g','h','i']\n",
        "    bcode_text = bcode_417.text.split('name')[-1].split(',')\n",
        "\n",
        "    bcode_name = []\n",
        "    for i in range(0,len(bcode_text)):\n",
        "        if bcode_text[i][0]==name_keys[0] and bcode_text[i+1][0]==name_keys[1] and bcode_text[i+2][0]==name_keys[2]:\n",
        "            bcode_name.append(bcode_text[i][1:])\n",
        "            bcode_name.append(bcode_text[i+1][1:])\n",
        "            bcode_name.append(bcode_text[i+2][1:])\n",
        "        elif bcode_text[i][0]==name_keys[0] and bcode_text[i+1][0]==name_keys[1]:\n",
        "            bcode_name.append(bcode_text[i][1:])\n",
        "            bcode_name.append(bcode_text[i+1][1:])\n",
        "        elif bcode_text[i][0]==name_keys[0]:\n",
        "            bcode_name.append(bcode_text[i][1:])\n",
        "\n",
        "    return bcode_name"
      ],
      "metadata": {
        "id": "5pLnAu6UldjA"
      },
      "execution_count": null,
      "outputs": []
    },
    {
      "cell_type": "code",
      "execution_count": null,
      "metadata": {
        "id": "Z-tCfcbIaZdD"
      },
      "outputs": [],
      "source": [
        "# all_documents = glob(\"/content/documents/forms/*\")\n",
        "all_documents = glob(\"/content/documents/AI Receipts Project/*\")\n",
        "\n",
        "print('Total Documents:',len(all_documents))\n",
        "print(all_documents)\n",
        "\n",
        "pdf_path = '/content/documents/AI Receipts Project/A-2.pdf' #all_documents[1]\n",
        "pdf_name,_ = os.path.splitext(pdf_path.split('/')[-1])\n",
        "print(pdf_path,pdf_name)\n",
        "print('Size(Mb):',round(os.path.getsize(pdf_path)/1024/1024))\n",
        "\n",
        "## convert pdf to images\n",
        "all_pages = convert_from_path(pdf_path)\n",
        "print('Total Pages:',len(all_pages))\n"
      ]
    },
    {
      "cell_type": "code",
      "execution_count": null,
      "metadata": {
        "id": "-d7AsZ0sYJ3h"
      },
      "outputs": [],
      "source": [
        "junk_folder = os.path.join('/content/',pdf_name+'_junk/')\n",
        "!rm -r {junk_folder}\n",
        "\n",
        "if not os.path.isdir(junk_folder):\n",
        "    os.mkdir(junk_folder)\n",
        "\n",
        "st_i = 5\n",
        "num_forms = 3\n",
        "end_i = st_i+num_forms\n",
        "end_i = len(all_pages)#st_i+num_forms #min(st_i+num_forms,len(selected_pages))\n",
        "\n",
        "# all_pages = [Image.open('/content/K1-3.png')]\n",
        "selected_pages = all_pages\n",
        "\n",
        "display_info=False\n",
        "save_jpegs = True\n",
        "all_final_names,all_final_appends,corrupts = process_and_save(all_pages,junk_folder,display_info=display_info,st_i=st_i,end_i=end_i,save_jpegs=save_jpegs)\n",
        "# display_multi(all_pages[st_i])\n"
      ]
    },
    {
      "cell_type": "code",
      "execution_count": null,
      "metadata": {
        "id": "RwM2SIQluyBy"
      },
      "outputs": [],
      "source": [
        "path_write_pdf = os.path.join('/content/',pdf_name+'_pdfs/')\n",
        "path_write_images = os.path.join('/content/',pdf_name+'_images/')\n",
        "\n",
        "!rm -r {path_write_pdf}\n",
        "!rm -r {path_write_images}\n",
        "\n",
        "if not os.path.isdir(path_write_pdf):\n",
        "    os.mkdir(path_write_pdf)\n",
        "\n",
        "\n",
        "if not os.path.isdir(path_write_images):\n",
        "    os.mkdir(path_write_images)\n",
        "\n",
        "all_files_pagewise = make_pagewise_list(all_final_names,all_final_appends)\n",
        "\n",
        "break_pdf_to_files(pdf_path,path_write_pdf,all_files_pagewise,compress_pdf=True,pg_num=True)\n",
        "\n",
        "selected_pages = selected_pages[st_i:end_i]\n",
        "break_pdf_to_images(selected_pages,path_write_images,all_files_pagewise,jpeg_quality=10,pg_num=True)\n",
        "\n",
        "zip_name = os.path.join('/content/',pdf_name+'.zip')\n",
        "!zip -r {zip_name} {path_write_images}\n"
      ]
    },
    {
      "cell_type": "code",
      "execution_count": null,
      "metadata": {
        "id": "HlIQfhRfsfmB"
      },
      "outputs": [],
      "source": [
        "# !zip -r '/content/all_pdf_tables.zip' '/content/all_pdf_tables/'\n",
        "# !cp '/content/all_pdf_tables.zip' '/content/drive/MyDrive/immediate/'"
      ]
    },
    {
      "cell_type": "code",
      "execution_count": null,
      "metadata": {
        "id": "tSLWpFkD8G8X"
      },
      "outputs": [],
      "source": [
        "# print(corrupts)\n",
        "\n",
        "# [('A-2', 1), ('D-1', 3), ('D-1', 6), ('H-1', 31), ('P-2', 44), ('R-1', 39), ('V-1', 15)]"
      ]
    },
    {
      "cell_type": "code",
      "execution_count": null,
      "metadata": {
        "id": "tAqF9zO0v7ua"
      },
      "outputs": [],
      "source": [
        "# B-2 3 what form is this\n",
        "# K-1 3  what form is this\n",
        "# M-2 62,69 what form is this\n",
        "# P-1 30 ma masla ha. pichlay waloon k saat append hua wa tha\n",
        "# P-2 20 what form is this\n",
        "# R-1 24 what form is this\n",
        "# S-1 19 \"Biometric Notification\"\n",
        "# V-1 3  \"Biometric Notification\"\n"
      ]
    },
    {
      "cell_type": "code",
      "execution_count": null,
      "metadata": {
        "id": "-Vs5bkdQ2bj2"
      },
      "outputs": [],
      "source": [
        "# junk 5\n",
        "# C-2 45-46-47-48 should have 4 pages\n",
        "# S-1 completely bad"
      ]
    },
    {
      "cell_type": "code",
      "execution_count": null,
      "metadata": {
        "id": "E0UUPpq21qDS"
      },
      "outputs": [],
      "source": [
        "## if name==None, case=485, doc_type=Interview   THEN page=2\n",
        "## if prevous doc_type=RFE and current name,doc_type,case_type=None THEN page=2\n",
        "## if previous=None,None,None and current=None,None,None then page=3"
      ]
    },
    {
      "cell_type": "code",
      "execution_count": null,
      "metadata": {
        "id": "Q6FkKpRAYRzR"
      },
      "outputs": [],
      "source": [
        "## Tables vs non tables\n",
        "# B2-3\n",
        "# J2-7\n",
        "# K1-3\n",
        "# M1-19\n",
        "# M2-40\n",
        "# P1-28\n",
        "# P2-20\n",
        "# R1-24\n",
        "# V2-16\n",
        "\n",
        "\n",
        "# F2-18\n",
        "# S1-19"
      ]
    },
    {
      "cell_type": "code",
      "execution_count": null,
      "metadata": {
        "id": "k8QGdlkvHENe"
      },
      "outputs": [],
      "source": [
        "sad"
      ]
    },
    {
      "cell_type": "markdown",
      "metadata": {
        "id": "O3JGU1epI8LV"
      },
      "source": [
        "# Loop"
      ]
    },
    {
      "cell_type": "code",
      "execution_count": null,
      "metadata": {
        "id": "Cydx-VbyK8oi"
      },
      "outputs": [],
      "source": [
        "# all_documents = glob(\"/content/documents/forms/*\")\n",
        "all_documents = glob(\"/content/documents/AI Receipts Project/*\")\n",
        "all_documents.sort()\n",
        "print('Total Documents:',len(all_documents))\n",
        "print(all_documents)\n"
      ]
    },
    {
      "cell_type": "code",
      "execution_count": null,
      "metadata": {
        "id": "LZMSkxTaK_fJ"
      },
      "outputs": [],
      "source": [
        "\n",
        "## Settings\n",
        "\n",
        "## pre processing options\n",
        "op_dpi = (300,300)\n",
        "op_deskew = True\n",
        "op_img_thresh = False   ## True makes I to 1 so keep it false\n",
        "op_borders = (False,10,(0,0,0))\n",
        "\n",
        "## thresholding and morphology\n",
        "# ['try_all_threshold','threshold_otsu','threshold_yen','threshold_isodata','threshold_li','threshold_local','threshold_minimum','threshold_mean', 'threshold_niblack','threshold_sauvola','threshold_triangle','apply_hysteresis_threshold','threshold_multiotsu']\n",
        "thresh_filter = None#skimage.filters.threshold_otsu\n",
        "op_morph = None #apply_morph(img,morph_operation=cv2.MORPH_CLOSE,kernel=(3,3),iterations=1)\n"
      ]
    },
    {
      "cell_type": "code",
      "execution_count": null,
      "metadata": {
        "id": "XXKclLCdvZU9"
      },
      "outputs": [],
      "source": [
        "# path_write_pdf = os.path.join('/content/',pdf_name+'_pdfs/')\n",
        "# path_write_images = os.path.join('/content/',pdf_name+'_images/')\n",
        "\n",
        "# !rm -r {path_write_pdf}\n",
        "# !rm -r {path_write_images}\n",
        "\n",
        "# if not os.path.isdir(path_write_pdf):\n",
        "#     os.mkdir(path_write_pdf)\n",
        "\n",
        "\n",
        "# if not os.path.isdir(path_write_images):\n",
        "#     os.mkdir(path_write_images)"
      ]
    },
    {
      "cell_type": "code",
      "execution_count": null,
      "metadata": {
        "id": "qKbKYr17CJ3Y"
      },
      "outputs": [],
      "source": [
        "display_info=False\n",
        "save_jpegs = False\n",
        "save_images = True\n",
        "save_zips = True\n",
        "\n",
        "!rm -r '/content/processed_pdfs/'\n",
        "path_write_all = '/content/drive/MyDrive/immediate/processed_pdfs/'\n",
        "if not os.path.isdir(path_write_all):\n",
        "    os.mkdir(path_write_all)\n",
        "\n",
        "path_write_pdfs = os.path.join(path_write_all,'pdfs/')\n",
        "if not os.path.isdir(path_write_pdfs):\n",
        "    os.mkdir(path_write_pdfs)\n",
        "\n",
        "if save_jpegs==True:\n",
        "    path_write_junk = os.path.join(path_write_all,'junk/')\n",
        "    if not os.path.isdir(path_write_junk):\n",
        "        os.mkdir(path_write_junk)\n",
        "\n",
        "if save_images==True:\n",
        "    path_write_images = os.path.join(path_write_all,'images/')\n",
        "    if not os.path.isdir(path_write_images):\n",
        "        os.mkdir(path_write_images)\n",
        "\n",
        "if save_zips==True:\n",
        "    path_write_zips = os.path.join(path_write_all,'zips/')\n",
        "    if not os.path.isdir(path_write_zips):\n",
        "        os.mkdir(path_write_zips)\n",
        "\n",
        "\n",
        "st_i = None#0\n",
        "num_forms = None# 1\n",
        "end_i = None#5#st_i+num_forms\n",
        "\n",
        "all_corrupts = []\n",
        "for doc_index in tqdm(range(0,len(all_documents[:]))):\n",
        "\n",
        "    pdf_path = all_documents[doc_index]\n",
        "    pdf_name,_ = os.path.splitext(pdf_path.split('/')[-1])\n",
        "    print(pdf_path,pdf_name)\n",
        "    print('Size(Mb):',round(os.path.getsize(pdf_path)/1024/1024))\n",
        "\n",
        "    # if os.path.isfile(os.path.join(save_zip_path,pdf_name+'.zip')):\n",
        "    #     continue\n",
        "\n",
        "    ## convert pdf to images\n",
        "    all_pages = convert_from_path(pdf_path)\n",
        "    print('Total Pages:',len(all_pages))\n",
        "\n",
        "    if save_jpegs==True:\n",
        "        junk_folder = os.path.join(path_write_images,pdf_name+'_junk/')\n",
        "        if not os.path.isdir(junk_folder):\n",
        "            os.mkdir(junk_folder)\n",
        "    else:\n",
        "        junk_folder = None\n",
        "\n",
        "    pdf_folder = os.path.join(path_write_images,pdf_name+'_pdfs/')\n",
        "    if not os.path.isdir(pdf_folder):\n",
        "        os.mkdir(pdf_folder)\n",
        "\n",
        "    if save_images==True:\n",
        "        images_folder = os.path.join(path_write_images,pdf_name+'_images/')\n",
        "        if not os.path.isdir(images_folder):\n",
        "            os.mkdir(images_folder)\n",
        "\n",
        "    all_final_names,all_final_appends,corrupts = process_and_save(all_pages,junk_folder,display_info=display_info,st_i=st_i,end_i=end_i,save_jpegs=save_jpegs)\n",
        "    all_corrupts.append(all_corrupts)\n",
        "\n",
        "    all_files_pagewise = make_pagewise_list(all_final_names,all_final_appends)\n",
        "    break_pdf_to_files(pdf_path,pdf_folder,all_files_pagewise,compress_pdf=True)\n",
        "\n",
        "    if save_images==True:\n",
        "        selected_pages = all_pages[st_i:end_i]\n",
        "        break_pdf_to_images(selected_pages,images_folder,all_files_pagewise,jpeg_quality=10)\n",
        "\n",
        "    if save_zips==True:\n",
        "        zip_name = os.path.join(path_write_zips,pdf_name+'.zip')\n",
        "        !zip -r {zip_name} {images_folder}\n"
      ]
    },
    {
      "cell_type": "code",
      "execution_count": null,
      "metadata": {
        "id": "dknvW1llztnw"
      },
      "outputs": [],
      "source": [
        "print(all_corrupts)"
      ]
    },
    {
      "cell_type": "code",
      "execution_count": null,
      "metadata": {
        "id": "VL53nBO8NH_n"
      },
      "outputs": [],
      "source": []
    },
    {
      "cell_type": "code",
      "execution_count": null,
      "metadata": {
        "id": "FSSAK5Pkvx8f"
      },
      "outputs": [],
      "source": [
        "# !mkdir '/content/drive/MyDrive/micheal_junk_5/'"
      ]
    },
    {
      "cell_type": "code",
      "execution_count": null,
      "metadata": {
        "id": "mZrvRUlxWJ8Z"
      },
      "outputs": [],
      "source": [
        "\n",
        "# print(corrupts)\n",
        "\n",
        "# [('A-2', 1), ('D-1', 3), ('D-1', 6), ('H-1', 31), ('P-2', 44), ('R-1', 39), ('V-1', 15)]"
      ]
    },
    {
      "cell_type": "code",
      "execution_count": null,
      "metadata": {
        "id": "xZGRwP3CI6Of"
      },
      "outputs": [],
      "source": [
        "# !mkdir '/content/drive/MyDrive/micheal_junk_2/'"
      ]
    },
    {
      "cell_type": "code",
      "execution_count": null,
      "metadata": {
        "id": "6-32DS5Irk1W"
      },
      "outputs": [],
      "source": []
    },
    {
      "cell_type": "code",
      "execution_count": null,
      "metadata": {
        "id": "slXOUsnqti0d"
      },
      "outputs": [],
      "source": []
    },
    {
      "cell_type": "code",
      "execution_count": null,
      "metadata": {
        "id": "R4y1Z2JvI6MC"
      },
      "outputs": [],
      "source": [
        "# # all_documents = glob(\"/content/documents/forms/*\")\n",
        "# all_documents = glob(\"/content/documents/AI Receipts Project/*\")\n",
        "# all_documents.sort()\n",
        "# print('Total Documents:',len(all_documents))\n",
        "# print(all_documents)\n",
        "\n",
        "# !rm -r '/content/all_pdf_images/'\n",
        "# display_info=False\n",
        "# save_jpegs = True\n",
        "# st_i = None\n",
        "# num_forms = 1\n",
        "# end_i = None#st_i+num_forms\n",
        "\n",
        "# path_write_images = '/content/all_pdf_images/'\n",
        "# if not os.path.isdir(path_write_images):\n",
        "#     os.mkdir(path_write_images)\n",
        "\n",
        "# all_corrupts = []\n",
        "# for doc_index in tqdm(range(0,len(all_documents))):\n",
        "\n",
        "#     pdf_path = all_documents[doc_index]\n",
        "#     pdf_name,_ = os.path.splitext(pdf_path.split('/')[-1])\n",
        "#     if not os.path.isdir(os.path.join(path_write_images,pdf_name)):\n",
        "#         os.mkdir(os.path.join(path_write_images,pdf_name))\n",
        "\n",
        "#     print(pdf_path,pdf_name)\n",
        "#     print('Size(Mb):',round(os.path.getsize(pdf_path)/1024/1024))\n",
        "\n",
        "#     ## convert pdf to images\n",
        "#     all_pages = convert_from_path(pdf_path)\n",
        "#     print('Total Pages:',len(all_pages))\n",
        "\n",
        "\n",
        "#     for j in range(0,len(all_pages)):\n",
        "#         save_img_name = os.path.join(path_write_images,pdf_name,'page_'+str(j+1)+'.jpg')\n",
        "#         cv2.imwrite(save_img_name,np.array(all_pages[j]),[cv2.IMWRITE_JPEG_QUALITY, 10])"
      ]
    },
    {
      "cell_type": "code",
      "execution_count": null,
      "metadata": {
        "id": "ES74m4ZTqRcJ"
      },
      "outputs": [],
      "source": []
    },
    {
      "cell_type": "code",
      "execution_count": null,
      "metadata": {
        "id": "W3cHXOUwpc-E"
      },
      "outputs": [],
      "source": []
    },
    {
      "cell_type": "code",
      "execution_count": null,
      "metadata": {
        "id": "--eU0lgAVfj6"
      },
      "outputs": [],
      "source": []
    },
    {
      "cell_type": "markdown",
      "metadata": {
        "id": "AA0QGi99vwmp"
      },
      "source": [
        "#Notes"
      ]
    },
    {
      "cell_type": "code",
      "execution_count": null,
      "metadata": {
        "id": "5DuB5SpAjj2J"
      },
      "outputs": [],
      "source": [
        "## Notes\n",
        "# deskew\n",
        "# dpi 300 best\n",
        "# border/no-border\n",
        "\n",
        "# Test\n",
        "# test thresholding\n",
        "# load_system_dawg and load_freq_dawg to false\n",
        "# The text detection for tables is image resolution*2 and for normal document is resolution*1. remember 30pix is ideal case\n"
      ]
    },
    {
      "cell_type": "code",
      "execution_count": null,
      "metadata": {
        "id": "aiX57YPTjjzz"
      },
      "outputs": [],
      "source": [
        "# Ideas\n",
        "# Find just the table or its entries and read the values directly for example the cell with petitioner should have a have directly below it\n",
        "# Delete the unnecessery columns\n",
        "# Read the document only optill a certain point\n",
        "# Put black color on the unnecessery areas\n",
        "# .tiff format for printing\n"
      ]
    },
    {
      "cell_type": "code",
      "execution_count": null,
      "metadata": {
        "id": "esCsHS8vjjxa"
      },
      "outputs": [],
      "source": [
        "## explanation for psm types\n",
        "# yaheen sa manay --psm 4 for tables dakha tha\n",
        "# https://pyimagesearch.com/2021/11/15/tesseract-page-segmentation-modes-psms-explained-how-to-improve-your-ocr-accuracy/\n",
        "\n",
        "\n",
        "## detecting tables from images\n",
        "# https://betterprogramming.pub/extracting-tables-from-images-in-python-made-easy-ier-3be959555f6f"
      ]
    },
    {
      "cell_type": "code",
      "execution_count": null,
      "metadata": {
        "id": "v2aV41dxjjvA"
      },
      "outputs": [],
      "source": [
        "## for table detection\n",
        "'''\n",
        "Note: Depending on the image, you may have to modify the kernel size. For instance to capture longer horizontal lines,\n",
        "it may be necessary to increase the horizontal kernel from (40, 1) to say (80, 1). If you wanted to detect thicker horizontal lines,\n",
        "then you could increase the width of the kernel to say (80, 2). In addition, you could increase the number of iterations when performing cv2.morphologyEx().\n",
        "Similarly, you could modify the vertical kernels to detect more or less vertical lines.\n",
        "There is a trade-off when increasing or decreasing the kernel size as you may capture more or less of the lines. Again, it all varies depending on the input image\n",
        "'''"
      ]
    },
    {
      "cell_type": "code",
      "execution_count": null,
      "metadata": {
        "id": "OU59mrfFjjse"
      },
      "outputs": [],
      "source": [
        "## For case type detection\n",
        "'''\n",
        "make sure if all case types are I-something. If thats the case the just hadcode I and then extract the rest of it.\n",
        "some case dont have a \"-\" in I-123  see how to tackle that?\n",
        "'''"
      ]
    },
    {
      "cell_type": "code",
      "execution_count": null,
      "metadata": {
        "id": "0lx8MQVRNQDJ"
      },
      "outputs": [],
      "source": [
        "## utilize str.strip() and str.replace()"
      ]
    },
    {
      "cell_type": "markdown",
      "metadata": {
        "id": "gBMS5jv715jt"
      },
      "source": [
        "# Barcode"
      ]
    },
    {
      "cell_type": "code",
      "execution_count": null,
      "metadata": {
        "id": "Wqypwlht14-I"
      },
      "outputs": [],
      "source": [
        "!pip install pdf417decoder\n",
        "!pip3 install zxing\n",
        "!pip install zxing-cpp"
      ]
    },
    {
      "cell_type": "code",
      "execution_count": null,
      "metadata": {
        "id": "VpHdlGBU18UR"
      },
      "outputs": [],
      "source": [
        "from PIL import Image as PIL\n",
        "from pdf417decoder import PDF417Decoder\n",
        "\n"
      ]
    },
    {
      "cell_type": "code",
      "execution_count": null,
      "metadata": {
        "id": "0pITRH_t8S53"
      },
      "outputs": [],
      "source": [
        "from collections import namedtuple\n",
        "\n",
        "import numpy\n",
        "import numpy as np\n",
        "import cv2\n",
        "\n",
        "# Based on https://github.com/pyxploiter/Barcode-Detection-and-Decoding\n",
        "\n",
        "Region = namedtuple('Region', 'image rect box percent area shape box_percent')\n",
        "\n",
        "def detect_regions_multipage(images):\n",
        "    results = []\n",
        "    for image in images:\n",
        "        res = detect_regions(image)\n",
        "        results.append(res)\n",
        "    return results\n",
        "\n",
        "\n",
        "def detect_regions(pil_image, top_k=5):\n",
        "    original_image = numpy.array(pil_image)\n",
        "    image = numpy.array(pil_image)\n",
        "\n",
        "    # resize image\n",
        "    image = cv2.resize(image, None, fx=0.7, fy=0.7, interpolation=cv2.INTER_CUBIC)\n",
        "\n",
        "    # convert to grayscale\n",
        "    gray = cv2.cvtColor(image, cv2.COLOR_BGR2GRAY)\n",
        "\n",
        "    # calculate x & y gradient\n",
        "    gradX = cv2.Sobel(gray, ddepth=cv2.CV_32F, dx=1, dy=0, ksize=-1)\n",
        "    gradY = cv2.Sobel(gray, ddepth=cv2.CV_32F, dx=0, dy=1, ksize=-1)\n",
        "\n",
        "    # subtract the y-gradient from the x-gradient\n",
        "    gradient = cv2.subtract(gradX, gradY)\n",
        "    gradient = cv2.convertScaleAbs(gradient)\n",
        "\n",
        "    # blur the image\n",
        "    blurred = cv2.blur(gradient, (3, 3))\n",
        "\n",
        "    # threshold the image\n",
        "    (_, thresh) = cv2.threshold(blurred, 225, 255, cv2.THRESH_BINARY)\n",
        "\n",
        "    # construct a closing kernel and apply it to the thresholded image\n",
        "    kernel = cv2.getStructuringElement(cv2.MORPH_RECT, (86, 7))\n",
        "    closed = cv2.morphologyEx(thresh, cv2.MORPH_CLOSE, kernel)\n",
        "\n",
        "    # perform a series of erosions and dilations\n",
        "    closed = cv2.erode(closed, None, iterations=4)\n",
        "    closed = cv2.dilate(closed, None, iterations=4)\n",
        "\n",
        "    # find the contours in the thresholded image, then sort the contours\n",
        "    # by their area, keeping only the largest one\n",
        "    cnts, hierarchy = cv2.findContours(closed.copy(), cv2.RETR_EXTERNAL, cv2.CHAIN_APPROX_SIMPLE)[-2:]\n",
        "    c_topk = sorted(cnts, key=cv2.contourArea, reverse=True)[:top_k]\n",
        "\n",
        "    crops = []\n",
        "    for idx, c in enumerate(c_topk):\n",
        "        # compute the rotated bounding box of the largest contour\n",
        "        rect = cv2.minAreaRect(c)\n",
        "        box = np.int0(cv2.boxPoints(rect))\n",
        "\n",
        "        image_crop, image_rot = crop_minAreaRect(image, rect)\n",
        "        image_crop_thresh, _ = crop_minAreaRect(thresh, rect)\n",
        "\n",
        "        area = cv2.contourArea(c)\n",
        "        black_pixels = np.count_nonzero(image_crop_thresh)\n",
        "        percent_dark = black_pixels / image_crop.size\n",
        "\n",
        "        box = np.array(box, dtype=np.float64)\n",
        "        box[:, 0] = box[:, 0] / image.shape[0]\n",
        "        box[:, 1] = box[:, 1] / image.shape[1]\n",
        "        crops.append(Region(image_crop, rect, box, percent_dark, area, image.shape, box))\n",
        "    # logger.info(f\"black pixels: {percent_dark}\")\n",
        "\n",
        "    crops_sorted = sorted(crops, key=lambda reg: (reg.rect[0][1], reg.rect[0][0]), reverse=False)\n",
        "\n",
        "    for idx, region in enumerate(crops_sorted):\n",
        "        rect = region.rect\n",
        "        box = np.int0(cv2.boxPoints(region.rect))\n",
        "        # draw a bounding box arounded the detected barcode and display the image\n",
        "        cv2.drawContours(image, [box], -1, (0, 255, 0), 3)\n",
        "\n",
        "        percent = \"{:.3f}\".format(percent_dark)\n",
        "        font = cv2.FONT_HERSHEY_SIMPLEX\n",
        "        cv2.putText(image, str(idx), (int(rect[0][0]), int(rect[0][1])), font, 4, (0, 255, 0), 2, cv2.LINE_AA)\n",
        "\n",
        "    image = cv2.resize(image, None, fx=0.5, fy=0.5, interpolation=cv2.INTER_CUBIC)\n",
        "    return crops_sorted\n",
        "\n",
        "def crop_minAreaRect(img, rect):\n",
        "    # get the parameter of the small rectangle\n",
        "    center = rect[0]\n",
        "    size = rect[1]\n",
        "    angle = rect[2]\n",
        "\n",
        "    if size[0] < size[1]:\n",
        "        angle = angle - 90\n",
        "        size = [size[1], size[0]]\n",
        "\n",
        "\n",
        "    center, size = tuple(map(int, center)), tuple(map(int, size))\n",
        "\n",
        "    w = 30\n",
        "    h = 20\n",
        "    size = (size[0] + w, size[1] + h)\n",
        "    # get row and col num in img\n",
        "    height, width = img.shape[0], img.shape[1]\n",
        "    # print(\"width: {}, height: {}\".format(width, height))\n",
        "\n",
        "    M = cv2.getRotationMatrix2D(center, angle, 1)\n",
        "    img_rot = cv2.warpAffine(img, M, (width, height))\n",
        "\n",
        "    img_crop = cv2.getRectSubPix(img_rot, size, center)\n",
        "\n",
        "    return img_crop, img_rot"
      ]
    },
    {
      "cell_type": "code",
      "execution_count": null,
      "metadata": {
        "id": "hxqZqVfZA810"
      },
      "outputs": [],
      "source": [
        "import zxing\n",
        "import zxingcpp\n",
        "import PIL\n",
        "reader = zxing.BarCodeReader()"
      ]
    },
    {
      "cell_type": "code",
      "execution_count": null,
      "metadata": {
        "id": "65E6rn8b89_z"
      },
      "outputs": [],
      "source": [
        "img = cv2.imread('/content/documents/131_raw/page_71.png')\n",
        "img_regions = detect_regions(img)\n",
        "len(img_regions)\n",
        "display_multi(img)\n",
        "\n"
      ]
    },
    {
      "cell_type": "code",
      "execution_count": null,
      "metadata": {
        "id": "1-yNE7lqL_5J"
      },
      "outputs": [],
      "source": [
        "def filter_barcodes(img_regions):\n",
        "    filt_bcodes = []\n",
        "    for i in range(0,len(img_regions)):\n",
        "        # display_multi(img_regions[i].image,figsize=(3,3))\n",
        "        b_h,b_w = np.shape(img_regions[i].image)[:2]\n",
        "        if b_h>150 and b_w<500:\n",
        "            filt_bcodes.append(img_regions[i])\n",
        "\n",
        "    return filt_bcodes\n",
        "\n",
        "def read_bcode_from_img(img):\n",
        "    bcode_results = zxingcpp.read_barcodes(img)\n",
        "    for result in bcode_results:\n",
        "        if result.format==zxingcpp.BarcodeFormat.PDF417:\n",
        "            return result\n",
        "\n",
        "    return None\n",
        "\n",
        "def get_name_from_bcode(bcode_417):\n",
        "    name_keys = ['g','h','i']\n",
        "    bcode_text = bcode_417.text.split('name')[-1].split(',')\n",
        "\n",
        "    bcode_name = []\n",
        "    for i in range(0,len(bcode_text)):\n",
        "        if bcode_text[i][0]==name_keys[0] and bcode_text[i+1][0]==name_keys[1] and bcode_text[i+2][0]==name_keys[2]:\n",
        "            bcode_name.append(bcode_text[i][1:])\n",
        "            bcode_name.append(bcode_text[i+1][1:])\n",
        "            bcode_name.append(bcode_text[i+2][1:])\n",
        "        elif bcode_text[i][0]==name_keys[0] and bcode_text[i+1][0]==name_keys[1]:\n",
        "            bcode_name.append(bcode_text[i][1:])\n",
        "            bcode_name.append(bcode_text[i+1][1:])\n",
        "        elif bcode_text[i][0]==name_keys[0]:\n",
        "            bcode_name.append(bcode_text[i][1:])\n",
        "\n",
        "    return bcode_name"
      ]
    },
    {
      "cell_type": "code",
      "execution_count": null,
      "metadata": {
        "id": "drm6rLs5_d8b"
      },
      "outputs": [],
      "source": [
        "filt_bcodes = filter_barcodes(img_regions)"
      ]
    },
    {
      "cell_type": "code",
      "execution_count": null,
      "metadata": {
        "id": "LbJzf_ANAqF5"
      },
      "outputs": [],
      "source": [
        "filt_bcodes"
      ]
    },
    {
      "cell_type": "code",
      "execution_count": null,
      "metadata": {
        "id": "qpCpYOF49HMF"
      },
      "outputs": [],
      "source": [
        "in_bar = PIL.Image.fromarray(filt_bcodes[0].image)\n",
        "ret,in_bar = cv2.threshold(np.array(in_bar),127,255,cv2.THRESH_BINARY)\n",
        "\n",
        "display_multi(in_bar,figsize=(4,4))"
      ]
    },
    {
      "cell_type": "code",
      "execution_count": null,
      "metadata": {
        "id": "Uhu9sK2kB56V"
      },
      "outputs": [],
      "source": [
        "results = zxingcpp.read_barcodes(img)\n",
        "for result in results:\n",
        "    print(\"Found barcode:\\n Text:    '{}'\\n Format:   {}\\n Position: {}\"\n",
        "        .format(result.text, result.format, result.position))\n",
        "\n",
        "if len(results) == 0:\n",
        "    print(\"Could not find any barcode.\")\n"
      ]
    },
    {
      "cell_type": "code",
      "execution_count": null,
      "metadata": {
        "id": "ZEbz2hsPB98y"
      },
      "outputs": [],
      "source": [
        "result.text.split('name')[-1].split(',')"
      ]
    },
    {
      "cell_type": "code",
      "execution_count": null,
      "metadata": {
        "id": "aSVbmGI8Yz9y"
      },
      "outputs": [],
      "source": [
        "# all_documents = glob(\"/content/documents/forms/*\")\n",
        "all_documents = glob(\"/content/documents/AI Receipts Project/*\")\n",
        "\n",
        "print('Total Documents:',len(all_documents))\n",
        "print(all_documents)\n",
        "\n",
        "pdf_path = '/content/documents/AI Receipts Project/A-1.pdf' #all_documents[1]\n",
        "pdf_name,_ = os.path.splitext(pdf_path.split('/')[-1])\n",
        "print(pdf_path,pdf_name)\n",
        "print('Size(Mb):',round(os.path.getsize(pdf_path)/1024/1024))\n",
        "\n",
        "## convert pdf to images\n",
        "all_pages = convert_from_path(pdf_path)\n",
        "print('Total Pages:',len(all_pages))\n"
      ]
    },
    {
      "cell_type": "code",
      "execution_count": null,
      "metadata": {
        "id": "4ofdrU_IBijK"
      },
      "outputs": [],
      "source": [
        "# op_dpi = (300,300)\n",
        "op_deskew = True\n",
        "op_img_thresh = False   ## True makes I to 1 so keep it false\n",
        "op_borders = (False,10,(0,0,0))\n",
        "\n",
        "# ## thresholding and morphology\n",
        "# # ['try_all_threshold','threshold_otsu','threshold_yen','threshold_isodata','threshold_li','threshold_local','threshold_minimum','threshold_mean', 'threshold_niblack','threshold_sauvola','threshold_triangle','apply_hysteresis_threshold','threshold_multiotsu']\n",
        "# thresh_filter = None#skimage.filters.threshold_otsu\n",
        "# op_morph = None #apply_morph(img,morph_operation=cv2.MORPH_CLOSE,kernel=(3,3),iterations=1)\n",
        "\n",
        "\n",
        "\n",
        "# img = cv2.imread('/content/documents/131_raw/page_4.png')\n",
        "img = np.array(all_pages[14])\n",
        "img = cv2.cvtColor(np.array(img),cv2.COLOR_RGB2GRAY)\n",
        "\n",
        "try:\n",
        "    img = check_orientation_tesseract(np.array(img))\n",
        "except:\n",
        "    pass\n",
        "\n",
        "img = preprocess_image(img,deskew=op_deskew,img_thresh=op_img_thresh,\\\n",
        "                        add_border=op_borders[0],border_width=op_borders[1],border_color=op_borders[2],img_type='gray')\n",
        "# img_regions = detect_regions(img)\n",
        "# len(img_regions)\n",
        "bcode_417 = read_bcode_from_img(img)\n",
        "bcode_name = get_name_from_bcode(bcode_417)\n",
        "print(bcode_name)\n",
        "separator=' '\n",
        "bcode_name = str(separator.join(bcode_name))\n",
        "print(bcode_name)\n",
        "display_multi(img)\n",
        "\n"
      ]
    },
    {
      "cell_type": "code",
      "execution_count": null,
      "metadata": {
        "id": "lukbVIrTTJJL"
      },
      "outputs": [],
      "source": [
        "print(get_name_from_bcode(bcode_417))\n",
        "bcode_417.text.split('name')[-1].split(',')"
      ]
    },
    {
      "cell_type": "code",
      "execution_count": null,
      "metadata": {
        "id": "Mi3rML2sItky"
      },
      "outputs": [],
      "source": [
        "display_info=False\n",
        "save_jpegs = False\n",
        "save_images = True\n",
        "save_zips = True\n",
        "\n",
        "!rm -r '/content/drive/MyDrive/immediate/processed_name/'\n",
        "path_write_all = '/content/drive/MyDrive/immediate/processed_name/'\n",
        "if not os.path.isdir(path_write_all):\n",
        "    os.mkdir(path_write_all)\n",
        "\n",
        "path_write_pdfs = os.path.join(path_write_all,'pdfs/')\n",
        "if not os.path.isdir(path_write_pdfs):\n",
        "    os.mkdir(path_write_pdfs)\n",
        "\n",
        "if save_jpegs==True:\n",
        "    path_write_junk = os.path.join(path_write_all,'junk/')\n",
        "    if not os.path.isdir(path_write_junk):\n",
        "        os.mkdir(path_write_junk)\n",
        "\n",
        "if save_images==True:\n",
        "    path_write_images = os.path.join(path_write_all,'images/')\n",
        "    if not os.path.isdir(path_write_images):\n",
        "        os.mkdir(path_write_images)\n",
        "\n",
        "if save_zips==True:\n",
        "    path_write_zips = os.path.join(path_write_all,'zips/')\n",
        "    if not os.path.isdir(path_write_zips):\n",
        "        os.mkdir(path_write_zips)\n",
        "\n",
        "\n",
        "st_i = None#0\n",
        "num_forms = None# 1\n",
        "end_i = None#5#st_i+num_forms\n",
        "\n",
        "all_corrupts = []\n",
        "for doc_index in tqdm(range(0,len(all_documents[:]))):\n",
        "\n",
        "    pdf_path = all_documents[doc_index]\n",
        "    pdf_name,_ = os.path.splitext(pdf_path.split('/')[-1])\n",
        "    print(pdf_path,pdf_name)\n",
        "    print('Size(Mb):',round(os.path.getsize(pdf_path)/1024/1024))\n",
        "\n",
        "    # if os.path.isfile(os.path.join(save_zip_path,pdf_name+'.zip')):\n",
        "    #     continue\n",
        "\n",
        "    ## convert pdf to images\n",
        "    all_pages = convert_from_path(pdf_path)\n",
        "    print('Total Pages:',len(all_pages))\n",
        "\n",
        "    if save_jpegs==True:\n",
        "        junk_folder = os.path.join(path_write_junk,pdf_name+'_junk/')\n",
        "        if not os.path.isdir(junk_folder):\n",
        "            os.mkdir(junk_folder)\n",
        "    else:\n",
        "        junk_folder = None\n",
        "\n",
        "    pdf_folder = os.path.join(path_write_pdfs,pdf_name+'_pdfs/')\n",
        "    if not os.path.isdir(pdf_folder):\n",
        "        os.mkdir(pdf_folder)\n",
        "\n",
        "    if save_images==True:\n",
        "        images_folder = os.path.join(path_write_images,pdf_name+'_images/')\n",
        "        if not os.path.isdir(images_folder):\n",
        "            os.mkdir(images_folder)\n",
        "\n",
        "\n",
        "    for p in range(0,len(all_pages)):\n",
        "        img = np.array(all_pages[p])\n",
        "        img = cv2.cvtColor(np.array(img),cv2.COLOR_RGB2GRAY)\n",
        "\n",
        "        try:\n",
        "            img = check_orientation_tesseract(np.array(img))\n",
        "        except:\n",
        "            pass\n",
        "\n",
        "        img = preprocess_image(img,deskew=op_deskew,img_thresh=op_img_thresh,\\\n",
        "                                add_border=op_borders[0],border_width=op_borders[1],border_color=op_borders[2],img_type='gray')\n",
        "        # img_regions = detect_regions(img)\n",
        "        # len(img_regions)\n",
        "        try:\n",
        "            bcode_417 = read_bcode_from_img(img)\n",
        "            bcode_name = get_name_from_bcode(bcode_417)\n",
        "            # separator=' '\n",
        "            # bcode_name = str(separator.join(bcode_name))\n",
        "        except:\n",
        "            bcode_name = 'None'\n",
        "\n",
        "        final_name = pdf_name+'_'+str(p)+'_'+str(bcode_name)+'.jpg'\n",
        "        final_name = os.path.join(path_write_all,final_name)\n",
        "        cv2.imwrite(final_name,img,[cv2.IMWRITE_JPEG_QUALITY, 10])\n",
        "\n",
        "    # all_final_names,all_final_appends,corrupts = process_and_save(all_pages,junk_folder,display_info=display_info,st_i=st_i,end_i=end_i,save_jpegs=save_jpegs)\n",
        "    # all_corrupts.append(all_corrupts)\n",
        "\n",
        "    # all_files_pagewise = make_pagewise_list(all_final_names,all_final_appends)\n",
        "    # break_pdf_to_files(pdf_path,pdf_folder,all_files_pagewise,compress_pdf=True)\n",
        "\n",
        "    # if save_images==True:\n",
        "    #     selected_pages = all_pages[st_i:end_i]\n",
        "    #     break_pdf_to_images(selected_pages,images_folder,all_files_pagewise,jpeg_quality=10)\n",
        "\n",
        "    # if save_zips==True:\n",
        "    #     zip_name = os.path.join(path_write_zips,pdf_name+'.zip')\n",
        "    #     !zip -r {zip_name} {images_folder}\n"
      ]
    },
    {
      "cell_type": "code",
      "execution_count": null,
      "metadata": {
        "id": "UZ3gU0YnXmpe"
      },
      "outputs": [],
      "source": []
    },
    {
      "cell_type": "code",
      "execution_count": null,
      "metadata": {
        "id": "hqo4zfh8XsQ8"
      },
      "outputs": [],
      "source": []
    }
  ],
  "metadata": {
    "colab": {
      "provenance": []
    },
    "kernelspec": {
      "display_name": "Python 3",
      "name": "python3"
    },
    "language_info": {
      "name": "python"
    }
  },
  "nbformat": 4,
  "nbformat_minor": 0
}